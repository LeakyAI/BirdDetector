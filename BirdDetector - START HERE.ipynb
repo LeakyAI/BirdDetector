{
 "cells": [
  {
   "cell_type": "markdown",
   "metadata": {},
   "source": [
    "# Build a Bird Detector\n",
    "Copyright 2021, LEAKY.AI LLC\n",
    "\n",
    "Welcome to your first coding exercise for the course.  For this assingment you will:\n",
    "- Learn how to use Google Colab to develop PyTorch projects\n",
    "- Build a quick, pre-trained neural network that can automatically detect birds\n",
    "- Upload your own photo and process it with the nerual network\n",
    "\n",
    "To get started, head over to Google Colab via this link:\n",
    "\n",
    "https://colab.research.google.com\n",
    "\n",
    "Then load the GitHub project using the following URL:\n",
    "https://github.com/LeakyAI/BirdDetector.git\n",
    "\n",
    "Good luck!"
   ]
  },
  {
   "cell_type": "markdown",
   "metadata": {},
   "source": [
    "## Step 1 - Import the PyTorch Libraries\n",
    "PyTorch has several libraries we will need to build this project.  The main library is the torch library.  We will also load the torchvision library which contains the pre-trained neural network we will need for our project as well as some transformation libraries that will help us process the image before passing it to our neural network.\n",
    "\n",
    "Below, start by importing torch, transforms (from torchvision) and resnet50 from models in torchvision."
   ]
  },
  {
   "cell_type": "code",
   "execution_count": null,
   "metadata": {},
   "outputs": [],
   "source": [
    "# Import PyTorch, PyTorch transform module and our pre-trained RESNET50 network\n"
   ]
  },
  {
   "cell_type": "markdown",
   "metadata": {},
   "source": [
    "## Step 2 - Specify a Transformation and a Model\n",
    "Next, we will define a transformation that will be applied to every photo before we send it to the nerual network.  Then we will instantiate the neural network and set it to evaluation mode.  (more on evaluation mode later).\n",
    "\n",
    "Also, note the ImageNet normalization values are ([0.485, 0.456, 0.406], [0.229, 0.224, 0.225])"
   ]
  },
  {
   "cell_type": "code",
   "execution_count": null,
   "metadata": {},
   "outputs": [],
   "source": [
    "# Build a transformation for each image passed into our network\n",
    "\n",
    "# Create an instance of the RESNET 50 model\n",
    "\n",
    "# Very important, put the model into evaluation mode\n"
   ]
  },
  {
   "cell_type": "markdown",
   "metadata": {},
   "source": [
    "## Step 3 - Load an Image\n",
    "Now that our nerual network is ready, we will need an image to process.  If you don't have an image, you can use the one included in the project which you can find here:\n",
    "\n",
    "https://raw.githubusercontent.com/LeakyAI/BirdDetector/main/macaw.jpg\n"
   ]
  },
  {
   "cell_type": "code",
   "execution_count": null,
   "metadata": {},
   "outputs": [],
   "source": [
    "from PIL import Image\n",
    "!wget https://raw.githubusercontent.com/LeakyAI/BirdDetector/main/macaw.jpg\n",
    "im = Image.open('macaw.jpg')\n",
    "display(im)"
   ]
  },
  {
   "cell_type": "markdown",
   "metadata": {},
   "source": [
    "## Step 4 - Pass the Image Through our Network\n",
    "Next, we will pass the image into our nerual network.  Before doing so, we will pre-process the image with our transform.  This will ensure the input image meets the input requirements of the neural network regardless of it's original size."
   ]
  },
  {
   "cell_type": "code",
   "execution_count": null,
   "metadata": {},
   "outputs": [],
   "source": [
    "# Pass our image into the network converting it to a batch size of 1\n",
    "\n",
    "# Convert our logits to softmax probabilities\n"
   ]
  },
  {
   "cell_type": "markdown",
   "metadata": {},
   "source": [
    "## Step 5 - Convert Outputs to Meaningful Categories\n",
    "Each of the outputs of the RESNET model is associated with a specific object (car, flower etc.).  We will need the names of each of these classes which we can find on the pytorch hub list:\n",
    "\n",
    "https://raw.githubusercontent.com/pytorch/hub/master/imagenet_classes.txt\n",
    "\n",
    "Let's read them into a list so we can clearly determine the class the network is predicting."
   ]
  },
  {
   "cell_type": "code",
   "execution_count": null,
   "metadata": {},
   "outputs": [],
   "source": [
    "# From PyTorch Documentation - read in all ImageNet class names\n",
    "!wget https://raw.githubusercontent.com/pytorch/hub/master/imagenet_classes.txt\n",
    "with open(\"imagenet_classes.txt\", \"r\") as f:\n",
    "    categories = [s.strip() for s in f.readlines()]"
   ]
  },
  {
   "cell_type": "code",
   "execution_count": null,
   "metadata": {},
   "outputs": [],
   "source": [
    "# Show top categories per image\n",
    "top3_prob, top3_catid = \n",
    "\n",
    "# Print out the values\n",
    "for i in range(top3_prob.size(0)):\n",
    "    print(f\"{categories[top3_catid[i]]} ({top3_prob[i].item():.3%}) {top3_catid[i]}\")"
   ]
  },
  {
   "cell_type": "markdown",
   "metadata": {},
   "source": [
    "## Step 6 - Detect Birds\n",
    "There are 1000 classes predicted by the RESNET50 model.  These all come from ImageNet and you have been provided the list along with the class ids in a pdf which you can download.  Looking at the full list of classes, you will see three seperate sections for birds.  The bird class IDs include 7..24, 80..100 and 127..146.  Hence, if your model detects with high confidence one of these classes, it would be a good assumption that a bird would be present in the picture. "
   ]
  },
  {
   "cell_type": "code",
   "execution_count": null,
   "metadata": {},
   "outputs": [],
   "source": [
    "# Define a function to check if a class ID is a type of bird\n",
    "# Input id, returns True or False\n",
    "def BirdClassID(id):\n",
    "    if \n",
    "        return True\n",
    "    else:\n",
    "        return False"
   ]
  },
  {
   "cell_type": "code",
   "execution_count": null,
   "metadata": {},
   "outputs": [],
   "source": [
    "# Function that takes an image as input and determines if a \n",
    "# bird is present in the image\n",
    "def BirdDetector(im):\n",
    "    \n",
    "    # Turn off gradient calculations as we are only using inference here\n",
    "    with torch.no_grad():\n",
    "        \n",
    "        # Transform Input and add a batch dimension to the tensor\n",
    "        inp =\n",
    "        \n",
    "        # Pass the input through the RESNET model\n",
    "        out = \n",
    "\n",
    "    # Convert the output to probabilities\n",
    "    probabilities = \n",
    "    \n",
    "    # Grap the single highest probability and associated id\n",
    "    prob, catid = \n",
    "\n",
    "    # If a bird is detected, print out \"Bird Detected\", otherwise \"No bird\"\n",
    "    if BirdClassID(catid):\n",
    "        print (\"Bird Detected!\")\n",
    "    else:\n",
    "        print (\"No bird...\")\n",
    "    \n",
    "    # Output the predicted name and probability\n",
    "    print(f\"Predicted {categories[catid]} with {prob.item():.3%} probability.\")"
   ]
  },
  {
   "cell_type": "markdown",
   "metadata": {},
   "source": [
    "## Try with your own image!"
   ]
  },
  {
   "cell_type": "code",
   "execution_count": null,
   "metadata": {},
   "outputs": [],
   "source": [
    "# Import libraries in order to import an image into the notebook\n",
    "from google.colab import files\n",
    "from io import BytesIO\n",
    "\n",
    "# Prompt to upload an image\n",
    "uploaded = files.upload()\n",
    "\n",
    "# Display the image\n",
    "name=list(uploaded.keys())[0]\n",
    "im = Image.open(BytesIO(uploaded[name]))\n",
    "display(im)\n",
    "\n",
    "# Passthrough the network\n",
    "BirdDetector(im)"
   ]
  },
  {
   "cell_type": "markdown",
   "metadata": {},
   "source": [
    "## Key Takeaways\n",
    "- You built a bird detector using a pre-trained neural network\n",
    "- This network has been trained on 1000s of images and can detect a 1000 different types of classes\n",
    "- You were able to process the image before sending it into the network\n",
    "- You were able to process the output of the neural network and determine what the network is predicting\n",
    "\n",
    "## Next Steps\n",
    "- Make the network even better by training it on additional bird types using transfer learning\n",
    "- Select an even more powerful network with higher accuarcy\n"
   ]
  }
 ],
 "metadata": {
  "kernelspec": {
   "display_name": "Python 3",
   "language": "python",
   "name": "python3"
  },
  "language_info": {
   "codemirror_mode": {
    "name": "ipython",
    "version": 3
   },
   "file_extension": ".py",
   "mimetype": "text/x-python",
   "name": "python",
   "nbconvert_exporter": "python",
   "pygments_lexer": "ipython3",
   "version": "3.8.2"
  }
 },
 "nbformat": 4,
 "nbformat_minor": 2
}
